{
  "nbformat": 4,
  "nbformat_minor": 0,
  "metadata": {
    "colab": {
      "provenance": []
    },
    "kernelspec": {
      "name": "python3",
      "display_name": "Python 3"
    },
    "language_info": {
      "name": "python"
    }
  },
  "cells": [
    {
      "cell_type": "markdown",
      "source": [
        "# **Assignment 1**\n",
        "\n",
        "**Abstract**\n",
        "\n",
        "---\n",
        "\n",
        "\n",
        "\n",
        "The main purpose of this assignment is to learn how to use lists and $\\tt numpy$ function, know the main differences, and determine which function is more efficient. The design of the study included mathematical operation to test each method efficiency. Firstly, it was asked to create lists of random floats. After, I had to compute the sum of a compound function. And than repeat everything using $\\tt numpy$ $\\tt arrays$. As it turns out, a numpy array actually takes about the same amount of time as lists to execute code."
      ],
      "metadata": {
        "id": "gbx_uxcoZBqw"
      }
    },
    {
      "cell_type": "markdown",
      "source": [
        "**Introduction**\n",
        "\n",
        "\n",
        "---\n",
        "\n"
      ],
      "metadata": {
        "id": "s7ikxFzlla96"
      }
    },
    {
      "cell_type": "markdown",
      "source": [
        "In this assignment we are aiming to test list method and numpy function method in mathematical purposes. Usually it is assumed that $\\tt numpy$ function always performs better than the default functions like lists. The main indicator of performance is time required to execute code. For better assessment of both methods I decided to use completely the same codes except the method of assigning values (list / array). The primary conjecture is that $\\tt numpy$ $ \\tt array$ will have much lower execution time than lists."
      ],
      "metadata": {
        "id": "y4TuulIx1Ng6"
      }
    },
    {
      "cell_type": "markdown",
      "source": [
        "**Methods**\n",
        "\n",
        "\n",
        "---\n",
        "\n",
        "In the 1st task of the problem I had to create two Python lists with $N=1000$ entries each, then use the function $\\tt random$ and choose the values of the elements at random with a uniform distribution between $-0.5$ and $0.5$."
      ],
      "metadata": {
        "id": "GUYnVCDkbh6T"
      }
    },
    {
      "cell_type": "markdown",
      "source": [
        "So, first I import all necessary packages:"
      ],
      "metadata": {
        "id": "HiSQrqLr-zun"
      }
    },
    {
      "cell_type": "code",
      "execution_count": null,
      "metadata": {
        "id": "ZGBIefVNY_Gd"
      },
      "outputs": [],
      "source": [
        "import numpy as np\n",
        "from numpy import zeros\n",
        "import random\n",
        "import math\n",
        "from timeit import default_timer"
      ]
    },
    {
      "cell_type": "markdown",
      "source": [
        "Then, I create two empty lists **a** and **b** and assign them random values in the given range. The third empty list is for sum variable and for now it remains intact."
      ],
      "metadata": {
        "id": "_lqf8KyU-7hP"
      }
    },
    {
      "cell_type": "code",
      "source": [
        "a = []\n",
        "b = []\n",
        "S = []"
      ],
      "metadata": {
        "id": "PQbh86kX_Bij"
      },
      "execution_count": null,
      "outputs": []
    },
    {
      "cell_type": "code",
      "source": [
        "i=0\n",
        "for i in range(1000):\n",
        "  a.append(random.uniform(-0.5, 0.5))\n",
        "for i in range(1000):\n",
        "  b.append(random.uniform(-0.5, 0.5))"
      ],
      "metadata": {
        "id": "19xevJ2G5B9Z"
      },
      "execution_count": null,
      "outputs": []
    },
    {
      "cell_type": "markdown",
      "source": [
        "In the next task it is asked to determine the time taken for computing mathematical problem using lists. I used math module for trigonometric functions and created a list to compute sum of elements in the list. Also, the main purpose of the task is to calculate time elapsed for code compilation. I used $\\tt timeit $ module for this goal."
      ],
      "metadata": {
        "id": "iRUq2SKX_ZLn"
      }
    },
    {
      "cell_type": "code",
      "source": [
        "i=0\n",
        "start = default_timer()\n",
        "for i in range(1000):\n",
        "  S.append(((math.sin(a[i]))**2 + (math.cos(b[i]))**2)**0.5)\n",
        "  S[i]=S[i-1]+S[i]\n",
        "end = default_timer()\n",
        "print(end - start)"
      ],
      "metadata": {
        "colab": {
          "base_uri": "https://localhost:8080/"
        },
        "id": "2tDpHUjZ_YuX",
        "outputId": "c59336b8-4dcb-4813-b9b0-e4a94eeed684"
      },
      "execution_count": null,
      "outputs": [
        {
          "output_type": "stream",
          "name": "stdout",
          "text": [
            "0.005410502999438904\n"
          ]
        }
      ]
    },
    {
      "cell_type": "markdown",
      "source": [
        "Now I do the same exercise using numpy:"
      ],
      "metadata": {
        "id": "z0VDwrZET3d4"
      }
    },
    {
      "cell_type": "code",
      "source": [
        "a = zeros(1000, float)\n",
        "b = zeros(1000, float)\n",
        "S = zeros(1000, float)"
      ],
      "metadata": {
        "id": "aCfA3tgQUqkm"
      },
      "execution_count": null,
      "outputs": []
    },
    {
      "cell_type": "code",
      "source": [
        "i=0\n",
        "for i in range(1000):\n",
        "  a[i] = random.uniform(-0.5, 0.5)\n",
        "for i in range(1000):\n",
        "  b[i]=random.uniform(-0.5, 0.5)"
      ],
      "metadata": {
        "id": "QxzcoSI94zD6"
      },
      "execution_count": null,
      "outputs": []
    },
    {
      "cell_type": "code",
      "source": [
        "i=0\n",
        "start = default_timer()\n",
        "for i in range(1000):\n",
        "  S[i]=(((math.sin(a[i]))**2 + (math.cos(b[i]))**2))**0.5\n",
        "  S[i]=S[i-1]+S[i]\n",
        "end = default_timer()\n",
        "print(end - start)"
      ],
      "metadata": {
        "colab": {
          "base_uri": "https://localhost:8080/"
        },
        "id": "ZFrW6FzEUqKD",
        "outputId": "963d0222-ddec-4cee-8723-35ac75afcdef"
      },
      "execution_count": null,
      "outputs": [
        {
          "output_type": "stream",
          "name": "stdout",
          "text": [
            "0.00588541199977044\n"
          ]
        }
      ]
    },
    {
      "cell_type": "markdown",
      "source": [
        "**Results**\n",
        "\n",
        "\n",
        "---\n",
        "\n",
        "It can be seen that the main hypothesis was refuted, because it takes approximately the same amount of time to execute code both with the numpy and lists. However, I assume that numpy is still more efficient package for science purposes. I have several assumptions for this. First, I think if number of random values was bigger (>100000) the numpy arrays would be much more efficient. Secondly, I think the way of how my code was constructed can be not really skillful."
      ],
      "metadata": {
        "id": "Co-kl6Zc6dZ0"
      }
    },
    {
      "cell_type": "markdown",
      "source": [
        "**Conclusion**\n",
        "\n",
        "\n",
        "---\n",
        "\n",
        "The main goal of this work is to demostrate efficiency of methods of lists and numpy arrays in mathematical operations. It was asked to assign random values between $-0.5$ and $0.5$ to lists a and b. Then, a mathematical formula that included square root, squaring, trigonometric functions, and sum, was applyed using those lists. And finally, the same operations had to be performed using numpy arrays. It was found that numpy arrays not always perform better than lists. In my opinion, it would be useful to test the same methods with larger datasets."
      ],
      "metadata": {
        "id": "jdLp0mAA8QzX"
      }
    }
  ]
}